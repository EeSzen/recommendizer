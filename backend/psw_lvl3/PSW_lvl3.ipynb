{
 "cells": [
  {
   "cell_type": "code",
   "execution_count": 1,
   "id": "b5cb70b1-544f-4fcc-a9a8-2e9f838ec205",
   "metadata": {},
   "outputs": [
    {
     "name": "stdout",
     "output_type": "stream",
     "text": [
      "Requirement already satisfied: flask in c:\\users\\eesze\\anaconda3\\lib\\site-packages (3.0.3)\n",
      "Collecting flask-cors\n",
      "  Downloading flask_cors-5.0.1-py3-none-any.whl.metadata (961 bytes)\n",
      "Requirement already satisfied: Werkzeug>=3.0.0 in c:\\users\\eesze\\anaconda3\\lib\\site-packages (from flask) (3.0.3)\n",
      "Requirement already satisfied: Jinja2>=3.1.2 in c:\\users\\eesze\\anaconda3\\lib\\site-packages (from flask) (3.1.4)\n",
      "Requirement already satisfied: itsdangerous>=2.1.2 in c:\\users\\eesze\\anaconda3\\lib\\site-packages (from flask) (2.2.0)\n",
      "Requirement already satisfied: click>=8.1.3 in c:\\users\\eesze\\anaconda3\\lib\\site-packages (from flask) (8.1.7)\n",
      "Requirement already satisfied: blinker>=1.6.2 in c:\\users\\eesze\\anaconda3\\lib\\site-packages (from flask) (1.6.2)\n",
      "Requirement already satisfied: colorama in c:\\users\\eesze\\anaconda3\\lib\\site-packages (from click>=8.1.3->flask) (0.4.6)\n",
      "Requirement already satisfied: MarkupSafe>=2.0 in c:\\users\\eesze\\anaconda3\\lib\\site-packages (from Jinja2>=3.1.2->flask) (2.1.3)\n",
      "Downloading flask_cors-5.0.1-py3-none-any.whl (11 kB)\n",
      "Installing collected packages: flask-cors\n",
      "Successfully installed flask-cors-5.0.1\n",
      "Note: you may need to restart the kernel to use updated packages.\n"
     ]
    }
   ],
   "source": [
    "pip install flask flask-cors"
   ]
  },
  {
   "cell_type": "code",
   "execution_count": 3,
   "id": "4a943ad8-b094-46c8-9b7a-5268a1f93179",
   "metadata": {},
   "outputs": [
    {
     "name": "stdout",
     "output_type": "stream",
     "text": [
      " * Serving Flask app '__main__'\n",
      " * Debug mode: on\n"
     ]
    },
    {
     "name": "stderr",
     "output_type": "stream",
     "text": [
      "An attempt was made to access a socket in a way forbidden by its access permissions\n"
     ]
    },
    {
     "ename": "SystemExit",
     "evalue": "1",
     "output_type": "error",
     "traceback": [
      "An exception has occurred, use %tb to see the full traceback.\n",
      "\u001b[1;31mSystemExit\u001b[0m\u001b[1;31m:\u001b[0m 1\n"
     ]
    },
    {
     "name": "stderr",
     "output_type": "stream",
     "text": [
      "C:\\Users\\EeSze\\anaconda3\\Lib\\site-packages\\IPython\\core\\interactiveshell.py:3585: UserWarning: To exit: use 'exit', 'quit', or Ctrl-D.\n",
      "  warn(\"To exit: use 'exit', 'quit', or Ctrl-D.\", stacklevel=1)\n"
     ]
    }
   ],
   "source": [
    "from flask import Flask, jsonify\n",
    "from flask_cors import CORS\n",
    "\n",
    "app = Flask(__name__)\n",
    "CORS(app)  # <-- THIS IS CRUCIAL\n",
    "\n",
    "@app.route('/recommendations')\n",
    "def get_recommendations():\n",
    "    # Example dummy data\n",
    "    return jsonify([\n",
    "        {\"id\": 1, \"name\": \"Wireless Headphones\", \"category\": \"Electronics\", \"rating\": 4, \"image\": \"/assets/headphones.jpg\"},\n",
    "        {\"id\": 2, \"name\": \"Yoga Mat\", \"category\": \"Fitness\", \"rating\": 5, \"image\": \"/assets/yogamat.jpg\"}\n",
    "    ])\n",
    "\n",
    "if __name__ == '__main__':\n",
    "    app.run(debug=True, port=5000)  # Make sure it runs on 5000 (default Flask port)\n"
   ]
  },
  {
   "cell_type": "code",
   "execution_count": 430,
   "id": "d4bb55df-f0b9-4e1d-81fe-4c6dc9b5aef3",
   "metadata": {},
   "outputs": [],
   "source": [
    "import pandas as pd\n",
    "import numpy as np\n",
    "import matplotlib.pyplot as plt\n",
    "import seaborn as sns\n",
    "\n",
    "from sklearn.model_selection import train_test_split, GridSearchCV\n",
    "from sklearn.preprocessing import StandardScaler, LabelEncoder\n",
    "from sklearn.metrics import classification_report, confusion_matrix, roc_auc_score, roc_curve\n",
    "from sklearn.linear_model import LogisticRegression\n",
    "from sklearn.ensemble import RandomForestClassifier\n",
    "\n",
    "import xgboost as xgb"
   ]
  },
  {
   "cell_type": "markdown",
   "id": "89726f0b-b07c-4cc8-b80b-6de7ceab6098",
   "metadata": {},
   "source": [
    "# Dataset"
   ]
  },
  {
   "cell_type": "code",
   "execution_count": 433,
   "id": "5e109ed5-9fe7-4909-bfad-d4790167685f",
   "metadata": {},
   "outputs": [
    {
     "data": {
      "text/html": [
       "<div>\n",
       "<style scoped>\n",
       "    .dataframe tbody tr th:only-of-type {\n",
       "        vertical-align: middle;\n",
       "    }\n",
       "\n",
       "    .dataframe tbody tr th {\n",
       "        vertical-align: top;\n",
       "    }\n",
       "\n",
       "    .dataframe thead th {\n",
       "        text-align: right;\n",
       "    }\n",
       "</style>\n",
       "<table border=\"1\" class=\"dataframe\">\n",
       "  <thead>\n",
       "    <tr style=\"text-align: right;\">\n",
       "      <th></th>\n",
       "      <th>overall</th>\n",
       "      <th>verified</th>\n",
       "      <th>reviewTime</th>\n",
       "      <th>reviewerID</th>\n",
       "      <th>asin</th>\n",
       "      <th>style</th>\n",
       "      <th>reviewerName</th>\n",
       "      <th>reviewText</th>\n",
       "      <th>summary</th>\n",
       "      <th>unixReviewTime</th>\n",
       "      <th>vote</th>\n",
       "      <th>image</th>\n",
       "    </tr>\n",
       "  </thead>\n",
       "  <tbody>\n",
       "    <tr>\n",
       "      <th>0</th>\n",
       "      <td>5</td>\n",
       "      <td>True</td>\n",
       "      <td>09 1, 2016</td>\n",
       "      <td>A3CIUOJXQ5VDQ2</td>\n",
       "      <td>B0000530HU</td>\n",
       "      <td>{'Size:': ' 7.0 oz', 'Flavor:': ' Classic Ice ...</td>\n",
       "      <td>Shelly F</td>\n",
       "      <td>As advertised. Reasonably priced</td>\n",
       "      <td>Five Stars</td>\n",
       "      <td>1472688000</td>\n",
       "      <td>NaN</td>\n",
       "      <td>NaN</td>\n",
       "    </tr>\n",
       "    <tr>\n",
       "      <th>1</th>\n",
       "      <td>5</td>\n",
       "      <td>True</td>\n",
       "      <td>11 14, 2013</td>\n",
       "      <td>A3H7T87S984REU</td>\n",
       "      <td>B0000530HU</td>\n",
       "      <td>{'Size:': ' 7.0 oz', 'Flavor:': ' Classic Ice ...</td>\n",
       "      <td>houserules18</td>\n",
       "      <td>Like the oder and the feel when I put it on my...</td>\n",
       "      <td>Good for the face</td>\n",
       "      <td>1384387200</td>\n",
       "      <td>NaN</td>\n",
       "      <td>NaN</td>\n",
       "    </tr>\n",
       "    <tr>\n",
       "      <th>2</th>\n",
       "      <td>1</td>\n",
       "      <td>True</td>\n",
       "      <td>08 18, 2013</td>\n",
       "      <td>A3J034YH7UG4KT</td>\n",
       "      <td>B0000530HU</td>\n",
       "      <td>{'Size:': ' 7.0 oz', 'Flavor:': ' Classic Ice ...</td>\n",
       "      <td>Adam</td>\n",
       "      <td>I bought this to smell nice after I shave.  Wh...</td>\n",
       "      <td>Smells awful</td>\n",
       "      <td>1376784000</td>\n",
       "      <td>NaN</td>\n",
       "      <td>NaN</td>\n",
       "    </tr>\n",
       "    <tr>\n",
       "      <th>3</th>\n",
       "      <td>5</td>\n",
       "      <td>False</td>\n",
       "      <td>05 3, 2011</td>\n",
       "      <td>A2UEO5XR3598GI</td>\n",
       "      <td>B0000530HU</td>\n",
       "      <td>{'Size:': ' 7.0 oz', 'Flavor:': ' Classic Ice ...</td>\n",
       "      <td>Rich K</td>\n",
       "      <td>HEY!! I am an Aqua Velva Man and absolutely lo...</td>\n",
       "      <td>Truth is There IS Nothing Like an AQUA VELVA MAN.</td>\n",
       "      <td>1304380800</td>\n",
       "      <td>25</td>\n",
       "      <td>NaN</td>\n",
       "    </tr>\n",
       "    <tr>\n",
       "      <th>4</th>\n",
       "      <td>5</td>\n",
       "      <td>True</td>\n",
       "      <td>05 6, 2011</td>\n",
       "      <td>A3SFRT223XXWF7</td>\n",
       "      <td>B00006L9LC</td>\n",
       "      <td>{'Size:': ' 200ml/6.7oz'}</td>\n",
       "      <td>C. C. Christian</td>\n",
       "      <td>If you ever want to feel pampered by a shampoo...</td>\n",
       "      <td>Bvlgari Shampoo</td>\n",
       "      <td>1304640000</td>\n",
       "      <td>3</td>\n",
       "      <td>NaN</td>\n",
       "    </tr>\n",
       "  </tbody>\n",
       "</table>\n",
       "</div>"
      ],
      "text/plain": [
       "   overall  verified   reviewTime      reviewerID        asin  \\\n",
       "0        5      True   09 1, 2016  A3CIUOJXQ5VDQ2  B0000530HU   \n",
       "1        5      True  11 14, 2013  A3H7T87S984REU  B0000530HU   \n",
       "2        1      True  08 18, 2013  A3J034YH7UG4KT  B0000530HU   \n",
       "3        5     False   05 3, 2011  A2UEO5XR3598GI  B0000530HU   \n",
       "4        5      True   05 6, 2011  A3SFRT223XXWF7  B00006L9LC   \n",
       "\n",
       "                                               style     reviewerName  \\\n",
       "0  {'Size:': ' 7.0 oz', 'Flavor:': ' Classic Ice ...         Shelly F   \n",
       "1  {'Size:': ' 7.0 oz', 'Flavor:': ' Classic Ice ...     houserules18   \n",
       "2  {'Size:': ' 7.0 oz', 'Flavor:': ' Classic Ice ...             Adam   \n",
       "3  {'Size:': ' 7.0 oz', 'Flavor:': ' Classic Ice ...           Rich K   \n",
       "4                          {'Size:': ' 200ml/6.7oz'}  C. C. Christian   \n",
       "\n",
       "                                          reviewText  \\\n",
       "0                   As advertised. Reasonably priced   \n",
       "1  Like the oder and the feel when I put it on my...   \n",
       "2  I bought this to smell nice after I shave.  Wh...   \n",
       "3  HEY!! I am an Aqua Velva Man and absolutely lo...   \n",
       "4  If you ever want to feel pampered by a shampoo...   \n",
       "\n",
       "                                             summary  unixReviewTime vote  \\\n",
       "0                                         Five Stars      1472688000  NaN   \n",
       "1                                  Good for the face      1384387200  NaN   \n",
       "2                                       Smells awful      1376784000  NaN   \n",
       "3  Truth is There IS Nothing Like an AQUA VELVA MAN.      1304380800   25   \n",
       "4                                    Bvlgari Shampoo      1304640000    3   \n",
       "\n",
       "  image  \n",
       "0   NaN  \n",
       "1   NaN  \n",
       "2   NaN  \n",
       "3   NaN  \n",
       "4   NaN  "
      ]
     },
     "execution_count": 433,
     "metadata": {},
     "output_type": "execute_result"
    }
   ],
   "source": [
    "df = pd.read_json('All_Beauty_5.json', lines=True)\n",
    "df.head()"
   ]
  },
  {
   "cell_type": "code",
   "execution_count": 435,
   "id": "cbc63d64-3ce2-444f-af0d-ca80a7ead219",
   "metadata": {},
   "outputs": [
    {
     "name": "stdout",
     "output_type": "stream",
     "text": [
      "<class 'pandas.core.frame.DataFrame'>\n",
      "RangeIndex: 5269 entries, 0 to 5268\n",
      "Data columns (total 12 columns):\n",
      " #   Column          Non-Null Count  Dtype \n",
      "---  ------          --------------  ----- \n",
      " 0   overall         5269 non-null   int64 \n",
      " 1   verified        5269 non-null   bool  \n",
      " 2   reviewTime      5269 non-null   object\n",
      " 3   reviewerID      5269 non-null   object\n",
      " 4   asin            5269 non-null   object\n",
      " 5   style           4624 non-null   object\n",
      " 6   reviewerName    5269 non-null   object\n",
      " 7   reviewText      5264 non-null   object\n",
      " 8   summary         5264 non-null   object\n",
      " 9   unixReviewTime  5269 non-null   int64 \n",
      " 10  vote            552 non-null    object\n",
      " 11  image           98 non-null     object\n",
      "dtypes: bool(1), int64(2), object(9)\n",
      "memory usage: 458.1+ KB\n"
     ]
    }
   ],
   "source": [
    "df.info()"
   ]
  },
  {
   "cell_type": "code",
   "execution_count": 437,
   "id": "5235355c-715e-4d30-ba30-ab6caa12e5e7",
   "metadata": {},
   "outputs": [
    {
     "data": {
      "text/plain": [
       "overall              0\n",
       "verified             0\n",
       "reviewTime           0\n",
       "reviewerID           0\n",
       "asin                 0\n",
       "style              645\n",
       "reviewerName         0\n",
       "reviewText           5\n",
       "summary              5\n",
       "unixReviewTime       0\n",
       "vote              4717\n",
       "image             5171\n",
       "dtype: int64"
      ]
     },
     "execution_count": 437,
     "metadata": {},
     "output_type": "execute_result"
    }
   ],
   "source": [
    "df.isna().sum()"
   ]
  },
  {
   "cell_type": "markdown",
   "id": "b8cc2695-2fc8-4478-9d41-d6fce2f3ae13",
   "metadata": {},
   "source": [
    "# EDA"
   ]
  },
  {
   "cell_type": "code",
   "execution_count": 440,
   "id": "2052a025-a2ce-4edc-a094-6379f67e01af",
   "metadata": {},
   "outputs": [
    {
     "data": {
      "image/png": "[encoded data removed]",
      "text/plain": [
       "<Figure size 600x400 with 1 Axes>"
      ]
     },
     "metadata": {},
     "output_type": "display_data"
    }
   ],
   "source": [
    "# Rating distribution\n",
    "plt.figure(figsize=(6,4))\n",
    "df['overall'].value_counts().sort_index().plot(kind='bar')\n",
    "plt.title('Rating Distribution')\n",
    "plt.xlabel('Rating')\n",
    "plt.ylabel('Count')\n",
    "plt.show()"
   ]
  },
  {
   "cell_type": "code",
   "execution_count": 442,
   "id": "6bdad75e-1265-404b-80a8-7d76d248d064",
   "metadata": {},
   "outputs": [
    {
     "data": {
      "image/png": "[encoded data removed]",
      "text/plain": [
       "<Figure size 640x480 with 1 Axes>"
      ]
     },
     "metadata": {},
     "output_type": "display_data"
    }
   ],
   "source": [
    "# Top products\n",
    "top_products = df['asin'].value_counts().head(10)\n",
    "top_products.plot(kind='bar', title='Top 10 Most Reviewed Products')\n",
    "plt.show()"
   ]
  },
  {
   "cell_type": "code",
   "execution_count": 444,
   "id": "4c4068f2-9920-4577-8161-fe8f8f5d2b77",
   "metadata": {},
   "outputs": [
    {
     "data": {
      "image/png": "[encoded data removed]",
      "text/plain": [
       "<Figure size 640x480 with 1 Axes>"
      ]
     },
     "metadata": {},
     "output_type": "display_data"
    }
   ],
   "source": [
    "# Top users\n",
    "top_users = df['reviewerID'].value_counts().head(10)\n",
    "top_users.plot(kind='bar', title='Top 10 Most Active Users')\n",
    "plt.show()"
   ]
  },
  {
   "cell_type": "markdown",
   "id": "5fbbd300-0ba9-4a09-a245-a22781413733",
   "metadata": {},
   "source": [
    "# Collaborative Filtering"
   ]
  },
  {
   "cell_type": "code",
   "execution_count": 447,
   "id": "2f9a76a3-57a2-46d0-8c87-59917050fc26",
   "metadata": {},
   "outputs": [],
   "source": [
    "# pip install scikit-surprise"
   ]
  },
  {
   "cell_type": "code",
   "execution_count": 449,
   "id": "1c374d03-0ad5-44cd-a876-800d9761d51c",
   "metadata": {},
   "outputs": [
    {
     "data": {
      "text/plain": [
       "<surprise.prediction_algorithms.matrix_factorization.SVD at 0x36353eb10>"
      ]
     },
     "execution_count": 449,
     "metadata": {},
     "output_type": "execute_result"
    }
   ],
   "source": [
    "from surprise import SVD, Dataset, Reader\n",
    "from surprise.model_selection import train_test_split\n",
    "from surprise import accuracy\n",
    "\n",
    "df_filter = df[['reviewerID', 'asin', 'overall']]\n",
    "reader = Reader(rating_scale=(1, 5))\n",
    "data = Dataset.load_from_df(df_filter[['reviewerID', 'asin', 'overall']], reader)\n",
    "\n",
    "trainset, testset = train_test_split(data, test_size=0.2, random_state=42)\n",
    "svd_model = SVD()\n",
    "svd_model.fit(trainset)\n"
   ]
  },
  {
   "cell_type": "code",
   "execution_count": 451,
   "id": "dd1a266e-e6c1-4e56-91bb-291fcd6ecb77",
   "metadata": {},
   "outputs": [
    {
     "name": "stdout",
     "output_type": "stream",
     "text": [
      "RMSE: 0.4768\n"
     ]
    },
    {
     "data": {
      "text/plain": [
       "0.47681704565789934"
      ]
     },
     "execution_count": 451,
     "metadata": {},
     "output_type": "execute_result"
    }
   ],
   "source": [
    "predictions = svd_model.test(testset)\n",
    "accuracy.rmse(predictions)"
   ]
  },
  {
   "cell_type": "code",
   "execution_count": 453,
   "id": "cf2be364-bb79-4c77-a55e-4d2fc0209592",
   "metadata": {},
   "outputs": [
    {
     "name": "stdout",
     "output_type": "stream",
     "text": [
      "Predicted rating for user AKJHHD5VEH7VG on item B0000530HU: 4.34\n"
     ]
    }
   ],
   "source": [
    "# user and item that have not been rated yet\n",
    "user_id = df_filter['reviewerID'].value_counts().idxmax()\n",
    "item_id = df_filter[df_filter['reviewerID'] != user_id]['asin'].unique()[0]\n",
    "\n",
    "# Predict rating\n",
    "pred = svd_model.predict(user_id, item_id)\n",
    "print(f\"Predicted rating for user {user_id} on item {item_id}: {pred.est:.2f}\")"
   ]
  },
  {
   "cell_type": "code",
   "execution_count": 455,
   "id": "3a6cd679-738e-4756-9e38-04029e16c9ca",
   "metadata": {},
   "outputs": [
    {
     "name": "stdout",
     "output_type": "stream",
     "text": [
      "Top recommendations:\n",
      "Item: B0009RF9DW, Predicted Rating: 4.75\n",
      "Item: B00JF2GVWK, Predicted Rating: 4.74\n",
      "Item: B00157OBRU, Predicted Rating: 4.69\n",
      "Item: B019LAI4HU, Predicted Rating: 4.66\n",
      "Item: B00CQ0LN80, Predicted Rating: 4.64\n"
     ]
    }
   ],
   "source": [
    "def get_top_n_recommendations(model, df_filter, user_id, n=10):\n",
    "    items_rated = df_filter[df_filter['reviewerID'] == user_id]['asin'].tolist()\n",
    "    items_to_predict = [iid for iid in df_filter['asin'].unique() if iid not in items_rated]\n",
    "    predictions = [model.predict(user_id, iid) for iid in items_to_predict]\n",
    "    top_n = sorted(predictions, key=lambda x: x.est, reverse=True)[:n]\n",
    "    return [(pred.iid, pred.est) for pred in top_n]\n",
    "\n",
    "top_n_recs = get_top_n_recommendations(svd_model, df_filter, user_id, n=5)\n",
    "print(\"Top recommendations:\")\n",
    "for asin, rating in top_n_recs:\n",
    "    print(f\"Item: {asin}, Predicted Rating: {rating:.2f}\")"
   ]
  },
  {
   "cell_type": "markdown",
   "id": "2c4b2d25-ce12-4b9c-b4e2-7755c0755aa8",
   "metadata": {},
   "source": [
    "# Content based filtering"
   ]
  },
  {
   "cell_type": "code",
   "execution_count": 458,
   "id": "1c9b318d-acfb-4424-8a28-4542a6e9d652",
   "metadata": {},
   "outputs": [
    {
     "data": {
      "text/plain": [
       "Index(['overall', 'verified', 'reviewTime', 'reviewerID', 'asin', 'style',\n",
       "       'reviewerName', 'reviewText', 'summary', 'unixReviewTime', 'vote',\n",
       "       'image'],\n",
       "      dtype='object')"
      ]
     },
     "execution_count": 458,
     "metadata": {},
     "output_type": "execute_result"
    }
   ],
   "source": [
    "df.columns"
   ]
  },
  {
   "cell_type": "code",
   "execution_count": 460,
   "id": "879e5455-67b3-4dd8-9610-2c9e7af36f8d",
   "metadata": {},
   "outputs": [],
   "source": [
    "# Group all review texts by product\n",
    "product_reviews = df.groupby('asin')['reviewText'].apply(lambda x: \" \".join(str(r) for r in x)).reset_index()\n",
    "product_reviews.columns = ['asin', 'metadata']"
   ]
  },
  {
   "cell_type": "code",
   "execution_count": 462,
   "id": "d037236f-6725-45a6-8433-9188d7068c81",
   "metadata": {},
   "outputs": [],
   "source": [
    "from sklearn.feature_extraction.text import TfidfVectorizer\n",
    "\n",
    "tfidf = TfidfVectorizer(stop_words='english', max_features=5000)\n",
    "tfidf_matrix = tfidf.fit_transform(product_reviews['metadata'])"
   ]
  },
  {
   "cell_type": "code",
   "execution_count": 464,
   "id": "f6558c6d-fe37-48c6-80c0-5d986408211a",
   "metadata": {},
   "outputs": [],
   "source": [
    "from sklearn.metrics.pairwise import cosine_similarity\n",
    "\n",
    "cosine_sim = cosine_similarity(tfidf_matrix, tfidf_matrix)"
   ]
  },
  {
   "cell_type": "code",
   "execution_count": 466,
   "id": "8e89ae45-45d3-4ed3-8722-6593c7b3fb92",
   "metadata": {},
   "outputs": [],
   "source": [
    "product_ids = product_reviews['asin'].tolist()\n",
    "asin_to_index = {asin: idx for idx, asin in enumerate(product_ids)}\n",
    "index_to_asin = {idx: asin for asin, idx in asin_to_index.items()}"
   ]
  },
  {
   "cell_type": "code",
   "execution_count": 468,
   "id": "c91b37e8-da14-4a1a-b0c0-09df3498ad27",
   "metadata": {},
   "outputs": [
    {
     "name": "stdout",
     "output_type": "stream",
     "text": [
      "Similar items to a sample product:\n",
      "['B000FTYALG', 'B0013NB7DW', 'B019809F9Y', 'B000PKKAGO', 'B0009RF9DW']\n"
     ]
    }
   ],
   "source": [
    "def get_content_recommendations(product_asin, top_n=5):\n",
    "    if product_asin not in asin_to_index:\n",
    "        return \"Product not found in metadata.\"\n",
    "    \n",
    "    idx = asin_to_index[product_asin]\n",
    "    sim_scores = list(enumerate(cosine_sim[idx]))\n",
    "    sim_scores = sorted(sim_scores, key=lambda x: x[1], reverse=True)[1:top_n+1]\n",
    "    \n",
    "    return [index_to_asin[i[0]] for i in sim_scores]\n",
    "\n",
    "print(\"Similar items to a sample product:\")\n",
    "sample_product = product_ids[0]\n",
    "print(get_content_recommendations(sample_product))"
   ]
  },
  {
   "cell_type": "code",
   "execution_count": 470,
   "id": "d6f88a0f-4aab-4f10-ac79-5adfa99e5741",
   "metadata": {},
   "outputs": [
    {
     "name": "stdout",
     "output_type": "stream",
     "text": [
      "Recommendations for user AKJHHD5VEH7VG:\n",
      "['B0012Y0ZG2', 'B0006O10P4', 'B0009RF9DW', 'B002GP80EU', 'B016V8YWBC']\n"
     ]
    }
   ],
   "source": [
    "def recommend_for_user_content(user_id, df, top_n=5):\n",
    "    user_items = df[df['reviewerID'] == user_id]['asin'].unique().tolist()\n",
    "    \n",
    "    recommendations = []\n",
    "    for item in user_items:\n",
    "        recs = get_content_recommendations(item, top_n=3)\n",
    "        recommendations.extend(recs)\n",
    "    \n",
    "    recommendations = list(set(recommendations) - set(user_items))\n",
    "    return recommendations[:top_n]\n",
    "    \n",
    "user_id = df['reviewerID'].value_counts().idxmax()\n",
    "print(f\"Recommendations for user {user_id}:\")\n",
    "print(recommend_for_user_content(user_id, df))"
   ]
  },
  {
   "cell_type": "markdown",
   "id": "146c48bc-2b80-4576-ad4f-9333b06f4214",
   "metadata": {},
   "source": [
    "# Combine both approaches into a hybrid recommender system "
   ]
  },
  {
   "cell_type": "markdown",
   "id": "1d48a3bb-a81b-4d01-ad1f-e11606783fee",
   "metadata": {},
   "source": [
    "# Main part for demo app"
   ]
  },
  {
   "cell_type": "code",
   "execution_count": 473,
   "id": "fd3067e7-8d38-4d5a-b28c-1b07205ca0cb",
   "metadata": {},
   "outputs": [],
   "source": [
    "def hybrid_score(user_id, item_id, svd_model, cosine_sim, asin_to_index, weight_cf=0.7, weight_cb=0.3):\n",
    "    # Check if item exists in content index\n",
    "    if item_id not in asin_to_index:\n",
    "        return svd_model.predict(user_id, item_id).est  # fallback to CF only\n",
    "    \n",
    "    # Collaborative Filtering score\n",
    "    cf_score = svd_model.predict(user_id, item_id).est\n",
    "\n",
    "    # Content-Based score: average similarity to user's rated items\n",
    "    user_items = df[df['reviewerID'] == user_id]['asin'].tolist()\n",
    "    sim_scores = []\n",
    "    \n",
    "    item_idx = asin_to_index[item_id]\n",
    "    \n",
    "    for asin in user_items:\n",
    "        if asin in asin_to_index:\n",
    "            user_item_idx = asin_to_index[asin]\n",
    "            sim_scores.append(cosine_sim[item_idx][user_item_idx])\n",
    "    \n",
    "    if sim_scores:\n",
    "        cb_score = sum(sim_scores) / len(sim_scores)\n",
    "        cb_score_scaled = cb_score * 5  # scale to rating range (0–5)\n",
    "    else:\n",
    "        cb_score_scaled = 2.5  # neutral fallback if no similar item found\n",
    "\n",
    "    # Weighted sum\n",
    "    hybrid = (weight_cf * cf_score) + (weight_cb * cb_score_scaled)\n",
    "    return hybrid"
   ]
  },
  {
   "cell_type": "code",
   "execution_count": 475,
   "id": "8b199a94-a0d0-44bd-b0a0-c7a2a79c84f0",
   "metadata": {},
   "outputs": [
    {
     "name": "stdout",
     "output_type": "stream",
     "text": [
      "Top hybrid recommendations for user AKJHHD5VEH7VG:\n",
      "ASIN: B0009RF9DW, Hybrid Score: 3.55\n",
      "ASIN: B000URXP6E, Hybrid Score: 3.46\n",
      "ASIN: B0012Y0ZG2, Hybrid Score: 3.45\n",
      "ASIN: B000FI4S1E, Hybrid Score: 3.43\n",
      "ASIN: B00JF2GVWK, Hybrid Score: 3.39\n"
     ]
    }
   ],
   "source": [
    "def hybrid_recommend(user_id, svd_model, cosine_sim, asin_to_index, top_n=5):\n",
    "    user_rated_items = df[df['reviewerID'] == user_id]['asin'].tolist()\n",
    "    all_items = df['asin'].unique()\n",
    "\n",
    "    # Only recommend items the user hasn't interacted with\n",
    "    candidate_items = [asin for asin in all_items if asin not in user_rated_items]\n",
    "\n",
    "    scored_items = []\n",
    "    for item in candidate_items:\n",
    "        score = hybrid_score(user_id, item, svd_model, cosine_sim, asin_to_index)\n",
    "        scored_items.append((item, score))\n",
    "\n",
    "    top_items = sorted(scored_items, key=lambda x: x[1], reverse=True)[:top_n]\n",
    "    return top_items\n",
    "\n",
    "# Example\n",
    "user_id = df['reviewerID'].value_counts().idxmax()\n",
    "recommendations = hybrid_recommend(user_id, svd_model, cosine_sim, asin_to_index)\n",
    "print(f\"Top hybrid recommendations for user {user_id}:\")\n",
    "for asin, score in recommendations:\n",
    "    print(f\"ASIN: {asin}, Hybrid Score: {score:.2f}\")"
   ]
  },
  {
   "cell_type": "markdown",
   "id": "937abc74-9974-4af2-9899-aa509664fc6b",
   "metadata": {},
   "source": [
    "# Evaluate the recommendation systems using metrics "
   ]
  },
  {
   "cell_type": "code",
   "execution_count": 478,
   "id": "59a0523e-1dd1-4d08-a85c-e622f94bc61e",
   "metadata": {},
   "outputs": [
    {
     "name": "stdout",
     "output_type": "stream",
     "text": [
      "RMSE: 0.4768\n",
      "SVD RMSE: 0.47681704565789934\n"
     ]
    }
   ],
   "source": [
    "rmse_score = accuracy.rmse(predictions)\n",
    "print(f\"SVD RMSE: {rmse_score}\")"
   ]
  },
  {
   "cell_type": "code",
   "execution_count": 480,
   "id": "1653993d-34f2-4a1e-b131-db7e885e71d7",
   "metadata": {},
   "outputs": [
    {
     "name": "stdout",
     "output_type": "stream",
     "text": [
      "SVD MAP: 0.9417857142857143\n"
     ]
    },
    {
     "name": "stderr",
     "output_type": "stream",
     "text": [
      "/opt/anaconda3/lib/python3.12/site-packages/sklearn/metrics/_ranking.py:993: UserWarning: No positive class found in y_true, recall is set to one for all thresholds.\n",
      "  warnings.warn(\n",
      "/opt/anaconda3/lib/python3.12/site-packages/sklearn/metrics/_ranking.py:993: UserWarning: No positive class found in y_true, recall is set to one for all thresholds.\n",
      "  warnings.warn(\n",
      "/opt/anaconda3/lib/python3.12/site-packages/sklearn/metrics/_ranking.py:993: UserWarning: No positive class found in y_true, recall is set to one for all thresholds.\n",
      "  warnings.warn(\n",
      "/opt/anaconda3/lib/python3.12/site-packages/sklearn/metrics/_ranking.py:993: UserWarning: No positive class found in y_true, recall is set to one for all thresholds.\n",
      "  warnings.warn(\n",
      "/opt/anaconda3/lib/python3.12/site-packages/sklearn/metrics/_ranking.py:993: UserWarning: No positive class found in y_true, recall is set to one for all thresholds.\n",
      "  warnings.warn(\n",
      "/opt/anaconda3/lib/python3.12/site-packages/sklearn/metrics/_ranking.py:993: UserWarning: No positive class found in y_true, recall is set to one for all thresholds.\n",
      "  warnings.warn(\n",
      "/opt/anaconda3/lib/python3.12/site-packages/sklearn/metrics/_ranking.py:993: UserWarning: No positive class found in y_true, recall is set to one for all thresholds.\n",
      "  warnings.warn(\n",
      "/opt/anaconda3/lib/python3.12/site-packages/sklearn/metrics/_ranking.py:993: UserWarning: No positive class found in y_true, recall is set to one for all thresholds.\n",
      "  warnings.warn(\n",
      "/opt/anaconda3/lib/python3.12/site-packages/sklearn/metrics/_ranking.py:993: UserWarning: No positive class found in y_true, recall is set to one for all thresholds.\n",
      "  warnings.warn(\n",
      "/opt/anaconda3/lib/python3.12/site-packages/sklearn/metrics/_ranking.py:993: UserWarning: No positive class found in y_true, recall is set to one for all thresholds.\n",
      "  warnings.warn(\n",
      "/opt/anaconda3/lib/python3.12/site-packages/sklearn/metrics/_ranking.py:993: UserWarning: No positive class found in y_true, recall is set to one for all thresholds.\n",
      "  warnings.warn(\n",
      "/opt/anaconda3/lib/python3.12/site-packages/sklearn/metrics/_ranking.py:993: UserWarning: No positive class found in y_true, recall is set to one for all thresholds.\n",
      "  warnings.warn(\n",
      "/opt/anaconda3/lib/python3.12/site-packages/sklearn/metrics/_ranking.py:993: UserWarning: No positive class found in y_true, recall is set to one for all thresholds.\n",
      "  warnings.warn(\n",
      "/opt/anaconda3/lib/python3.12/site-packages/sklearn/metrics/_ranking.py:993: UserWarning: No positive class found in y_true, recall is set to one for all thresholds.\n",
      "  warnings.warn(\n",
      "/opt/anaconda3/lib/python3.12/site-packages/sklearn/metrics/_ranking.py:993: UserWarning: No positive class found in y_true, recall is set to one for all thresholds.\n",
      "  warnings.warn(\n",
      "/opt/anaconda3/lib/python3.12/site-packages/sklearn/metrics/_ranking.py:993: UserWarning: No positive class found in y_true, recall is set to one for all thresholds.\n",
      "  warnings.warn(\n",
      "/opt/anaconda3/lib/python3.12/site-packages/sklearn/metrics/_ranking.py:993: UserWarning: No positive class found in y_true, recall is set to one for all thresholds.\n",
      "  warnings.warn(\n",
      "/opt/anaconda3/lib/python3.12/site-packages/sklearn/metrics/_ranking.py:993: UserWarning: No positive class found in y_true, recall is set to one for all thresholds.\n",
      "  warnings.warn(\n",
      "/opt/anaconda3/lib/python3.12/site-packages/sklearn/metrics/_ranking.py:993: UserWarning: No positive class found in y_true, recall is set to one for all thresholds.\n",
      "  warnings.warn(\n",
      "/opt/anaconda3/lib/python3.12/site-packages/sklearn/metrics/_ranking.py:993: UserWarning: No positive class found in y_true, recall is set to one for all thresholds.\n",
      "  warnings.warn(\n",
      "/opt/anaconda3/lib/python3.12/site-packages/sklearn/metrics/_ranking.py:993: UserWarning: No positive class found in y_true, recall is set to one for all thresholds.\n",
      "  warnings.warn(\n",
      "/opt/anaconda3/lib/python3.12/site-packages/sklearn/metrics/_ranking.py:993: UserWarning: No positive class found in y_true, recall is set to one for all thresholds.\n",
      "  warnings.warn(\n",
      "/opt/anaconda3/lib/python3.12/site-packages/sklearn/metrics/_ranking.py:993: UserWarning: No positive class found in y_true, recall is set to one for all thresholds.\n",
      "  warnings.warn(\n",
      "/opt/anaconda3/lib/python3.12/site-packages/sklearn/metrics/_ranking.py:993: UserWarning: No positive class found in y_true, recall is set to one for all thresholds.\n",
      "  warnings.warn(\n",
      "/opt/anaconda3/lib/python3.12/site-packages/sklearn/metrics/_ranking.py:993: UserWarning: No positive class found in y_true, recall is set to one for all thresholds.\n",
      "  warnings.warn(\n",
      "/opt/anaconda3/lib/python3.12/site-packages/sklearn/metrics/_ranking.py:993: UserWarning: No positive class found in y_true, recall is set to one for all thresholds.\n",
      "  warnings.warn(\n",
      "/opt/anaconda3/lib/python3.12/site-packages/sklearn/metrics/_ranking.py:993: UserWarning: No positive class found in y_true, recall is set to one for all thresholds.\n",
      "  warnings.warn(\n",
      "/opt/anaconda3/lib/python3.12/site-packages/sklearn/metrics/_ranking.py:993: UserWarning: No positive class found in y_true, recall is set to one for all thresholds.\n",
      "  warnings.warn(\n",
      "/opt/anaconda3/lib/python3.12/site-packages/sklearn/metrics/_ranking.py:993: UserWarning: No positive class found in y_true, recall is set to one for all thresholds.\n",
      "  warnings.warn(\n",
      "/opt/anaconda3/lib/python3.12/site-packages/sklearn/metrics/_ranking.py:993: UserWarning: No positive class found in y_true, recall is set to one for all thresholds.\n",
      "  warnings.warn(\n",
      "/opt/anaconda3/lib/python3.12/site-packages/sklearn/metrics/_ranking.py:993: UserWarning: No positive class found in y_true, recall is set to one for all thresholds.\n",
      "  warnings.warn(\n",
      "/opt/anaconda3/lib/python3.12/site-packages/sklearn/metrics/_ranking.py:993: UserWarning: No positive class found in y_true, recall is set to one for all thresholds.\n",
      "  warnings.warn(\n"
     ]
    }
   ],
   "source": [
    "# calculates the average precision for each user, and then averages the precision across all users. \n",
    "\n",
    "from collections import defaultdict\n",
    "from sklearn.metrics import average_precision_score\n",
    "\n",
    "def get_top_n(predictions, n=10):\n",
    "    top_n = defaultdict(list)\n",
    "    for uid, iid, true_r, est, _ in predictions:\n",
    "        top_n[uid].append((iid, est))\n",
    "    \n",
    "    # Sort by estimated rating\n",
    "    for uid, user_ratings in top_n.items():\n",
    "        top_n[uid] = sorted(user_ratings, key=lambda x: x[1], reverse=True)[:n]\n",
    "    \n",
    "    return top_n\n",
    "\n",
    "# Get the top-n recommendations\n",
    "top_n_svd = get_top_n(predictions, n=10)\n",
    "\n",
    "def get_actual_top_n(df, n=10):\n",
    "    actual = defaultdict(list)\n",
    "    for uid, group in df.groupby('reviewerID'):\n",
    "        high_rated = group[group['overall'] >= 4.0]['asin'].tolist()\n",
    "        actual[uid] = high_rated[:n]\n",
    "    return actual\n",
    "\n",
    "actual = get_actual_top_n(df)\n",
    "\n",
    "# Compute MAP\n",
    "def compute_map(top_n_pred, actual, n=10):\n",
    "    ap_scores = []\n",
    "\n",
    "    for uid in top_n_pred:\n",
    "        if uid in actual:\n",
    "            pred_items = [iid for (iid, _) in top_n_pred[uid]]\n",
    "            true_items = actual[uid]\n",
    "\n",
    "            y_true = [1 if iid in true_items else 0 for iid in pred_items]\n",
    "\n",
    "            # Calculate Average Precision (AP)\n",
    "            ap_scores.append(average_precision_score(y_true, [1]*len(y_true)))  # Mock precision score for simplicity\n",
    "\n",
    "    map_score = sum(ap_scores) / len(ap_scores) if ap_scores else 0\n",
    "    return map_score\n",
    "\n",
    "map_svd = compute_map(top_n_svd, actual)\n",
    "print(f\"SVD MAP: {map_svd}\")"
   ]
  },
  {
   "cell_type": "code",
   "execution_count": 481,
   "id": "57b19b32-6e20-4612-a791-eb91f2bd0433",
   "metadata": {},
   "outputs": [
    {
     "name": "stdout",
     "output_type": "stream",
     "text": [
      "SVD NDCG: 0.9541188204036759\n"
     ]
    }
   ],
   "source": [
    "from sklearn.metrics import ndcg_score\n",
    "\n",
    "def compute_ndcg(top_n_pred, actual, n=10):\n",
    "    ndcg_scores = []\n",
    "\n",
    "    for uid in top_n_pred:\n",
    "        if uid in actual:\n",
    "            pred_items = [iid for (iid, _) in top_n_pred[uid]]\n",
    "            true_items = actual[uid]\n",
    "\n",
    "            # Ensure there are at least two items to compute NDCG\n",
    "            if len(pred_items) > 1:\n",
    "                y_true = [1 if iid in true_items else 0 for iid in pred_items]\n",
    "                # Calculate NDCG score for the user (mock relevance scores)\n",
    "                ndcg_scores.append(ndcg_score([y_true], [[1]*len(y_true)]))  \n",
    "\n",
    "    ndcg_avg = sum(ndcg_scores) / len(ndcg_scores) if ndcg_scores else 0\n",
    "    return ndcg_avg\n",
    "\n",
    "ndcg_svd = compute_ndcg(top_n_svd, actual)\n",
    "print(f\"SVD NDCG: {ndcg_svd}\")"
   ]
  },
  {
   "cell_type": "markdown",
   "id": "e4bb2ddf-b487-4b19-8166-478a1aab149b",
   "metadata": {},
   "source": [
    "# Optimize system for scalability"
   ]
  },
  {
   "cell_type": "code",
   "execution_count": 485,
   "id": "01048156-870f-4f18-8235-586a53645ad3",
   "metadata": {},
   "outputs": [],
   "source": [
    "# pip install annoy"
   ]
  },
  {
   "cell_type": "code",
   "execution_count": 497,
   "id": "28e39131-2da4-4c60-a17e-1bce4385838e",
   "metadata": {},
   "outputs": [
    {
     "name": "stdout",
     "output_type": "stream",
     "text": [
      "Reduced matrix shape: (991, 50)\n"
     ]
    }
   ],
   "source": [
    "from sklearn.decomposition import TruncatedSVD\n",
    "import numpy as np\n",
    "\n",
    "# Example: Assuming you have a user-item matrix `user_item_matrix`\n",
    "# Perform SVD to reduce dimensionality\n",
    "n_components = 50  # Choose the number of components (dimensions)\n",
    "svd = TruncatedSVD(n_components=n_components)\n",
    "reduced_matrix = svd.fit_transform(user_item_matrix)\n",
    "\n",
    "print(f\"Reduced matrix shape: {reduced_matrix.shape}\")"
   ]
  },
  {
   "cell_type": "code",
   "execution_count": 499,
   "id": "17bbd143-a0f1-487e-86e1-420aa1830997",
   "metadata": {},
   "outputs": [
    {
     "data": {
      "text/plain": [
       "True"
      ]
     },
     "execution_count": 499,
     "metadata": {},
     "output_type": "execute_result"
    }
   ],
   "source": [
    "from annoy import AnnoyIndex\n",
    "\n",
    "# Set the number of dimensions to match the reduced feature space\n",
    "f = n_components  # Number of dimensions after SVD\n",
    "annoy_index = AnnoyIndex(f, 'angular')  # 'angular' distance (can also use 'euclidean')\n",
    "\n",
    "# Insert vectors (example using random data or your reduced matrix)\n",
    "for i in range(len(reduced_matrix)):  # Loop over each item (user or product)\n",
    "    annoy_index.add_item(i, reduced_matrix[i])  # Add item with its reduced features\n",
    "\n",
    "# Build the index (you can set `n_trees` for optimization)\n",
    "annoy_index.build(10)  # You can adjust the number of trees for optimization"
   ]
  },
  {
   "cell_type": "code",
   "execution_count": 501,
   "id": "0e0329f6-8d9e-401a-b090-0f4f0e05f10c",
   "metadata": {},
   "outputs": [
    {
     "name": "stdout",
     "output_type": "stream",
     "text": [
      "Nearest neighbors for query 0: [806, 1, 17, 29, 31, 35, 64, 67, 76, 88]\n"
     ]
    }
   ],
   "source": [
    "# Query with a reduced vector (same number of dimensions)\n",
    "query_vector = reduced_matrix[0]  # Example query (e.g., for user 0)\n",
    "\n",
    "# Find the 10 nearest neighbors\n",
    "nearest_neighbors = annoy_index.get_nns_by_vector(query_vector, 10)\n",
    "print(f\"Nearest neighbors for query 0: {nearest_neighbors}\")"
   ]
  },
  {
   "cell_type": "code",
   "execution_count": 503,
   "id": "60a022d3-37ed-442c-a48a-5f42d5b9dfb1",
   "metadata": {},
   "outputs": [
    {
     "name": "stdout",
     "output_type": "stream",
     "text": [
      "NDCG: 0.45435593380883454\n"
     ]
    }
   ],
   "source": [
    "from sklearn.metrics import ndcg_score\n",
    "\n",
    "def compute_ndcg(predicted, actual, top_n=10):\n",
    "    # predicted: list of top_n predicted items\n",
    "    # actual: list of true items\n",
    "    \n",
    "    # Convert to binary relevance (1 for relevant, 0 for not relevant)\n",
    "    y_true = [1 if item in actual else 0 for item in predicted]\n",
    "    \n",
    "    # Calculate NDCG\n",
    "    return ndcg_score([y_true], [[1]*len(y_true)])  # Assume ideal relevance scores\n",
    "\n",
    "# Example usage\n",
    "predicted_items = nearest_neighbors  # Top 10 predicted items\n",
    "actual_items = [1, 2, 3, 4]  # True relevant items (example)\n",
    "ndcg_value = compute_ndcg(predicted_items, actual_items)\n",
    "print(f\"NDCG: {ndcg_value}\")"
   ]
  },
  {
   "cell_type": "markdown",
   "id": "a1e94b5e-75d1-43e8-90f1-c1f2a12034bd",
   "metadata": {},
   "source": [
    "# Visualize top recommendations"
   ]
  },
  {
   "cell_type": "code",
   "execution_count": 515,
   "id": "e7ce9883-ce64-45ac-b512-0c987a9df6c6",
   "metadata": {},
   "outputs": [
    {
     "data": {
      "text/plain": [
       "Index(['overall', 'verified', 'reviewTime', 'reviewerID', 'asin', 'style',\n",
       "       'reviewerName', 'reviewText', 'summary', 'unixReviewTime', 'vote',\n",
       "       'image'],\n",
       "      dtype='object')"
      ]
     },
     "execution_count": 515,
     "metadata": {},
     "output_type": "execute_result"
    }
   ],
   "source": [
    "df.columns"
   ]
  },
  {
   "cell_type": "code",
   "execution_count": 525,
   "id": "19d48531-bd58-448f-89bf-4ecad9e48c02",
   "metadata": {},
   "outputs": [
    {
     "data": {
      "image/png": "[encoded data removed]",
      "text/plain": [
       "<Figure size 1000x600 with 1 Axes>"
      ]
     },
     "metadata": {},
     "output_type": "display_data"
    }
   ],
   "source": [
    "import matplotlib.pyplot as plt\n",
    "\n",
    "# Sample users (you can select users with specific review counts or sample random ones)\n",
    "sample_users = df['reviewerID'].sample(3).unique()  # Pick 3 random users from the dataset\n",
    "\n",
    "# Lists to hold recommendations for SVD, Content-Based, and Hybrid methods\n",
    "recommendations_svd = []\n",
    "recommendations_content = []\n",
    "recommendations_hybrid = []\n",
    "\n",
    "# Get top recommendations for each method\n",
    "for user_id in sample_users:\n",
    "    # Generate top recommendations for SVD\n",
    "    top_items_svd = hybrid_recommend(user_id, svd_model, cosine_sim, asin_to_index)  # Hybrid includes CF and Content\n",
    "    \n",
    "    # Generate top recommendations for Content-Based (For this, use only content similarity, no collaborative filtering)\n",
    "    top_items_content = hybrid_recommend(user_id, svd_model, cosine_sim, asin_to_index)  # Modify this to exclude CF logic for pure content-based\n",
    "    \n",
    "    # Generate top recommendations for Hybrid (already integrated into `hybrid_recommend`)\n",
    "    top_items_hybrid = hybrid_recommend(user_id, svd_model, cosine_sim, asin_to_index)  # Hybrid approach, as in the code above\n",
    "\n",
    "    # Append the results to the lists\n",
    "    recommendations_svd.append(top_items_svd)\n",
    "    recommendations_content.append(top_items_content)\n",
    "    recommendations_hybrid.append(top_items_hybrid)\n",
    "\n",
    "# Plotting the results for the sample users\n",
    "fig, ax = plt.subplots(figsize=(10, 6))\n",
    "\n",
    "# Define colors for different methods\n",
    "colors = ['blue', 'green', 'red']\n",
    "labels = ['SVD', 'Content-Based', 'Hybrid']\n",
    "\n",
    "# Loop through each method and visualize the recommendations\n",
    "for i, recs in enumerate([recommendations_svd, recommendations_content, recommendations_hybrid]):\n",
    "    # We plot the count of recommendations for each method (for each sample user)\n",
    "    user_rec_counts = [len(rec) for rec in recs]\n",
    "    ax.barh(labels[i], sum(user_rec_counts), color=colors[i], label=labels[i])\n",
    "\n",
    "# Adding titles and labels\n",
    "ax.set_xlabel('Number of Recommendations')\n",
    "ax.set_title('Comparison of Top Recommendations for Different Approaches')\n",
    "ax.legend()\n",
    "\n",
    "# Show plot\n",
    "plt.show()"
   ]
  },
  {
   "cell_type": "markdown",
   "id": "8018af58-68d1-490e-a183-e2bd68f49feb",
   "metadata": {},
   "source": [
    "# Report "
   ]
  },
  {
   "cell_type": "raw",
   "id": "bb9ed170-3810-49f0-977d-788cef7a248a",
   "metadata": {},
   "source": [
    "1 Exploratory Data Analysis (EDA) Findings and Challenges\n",
    "\t•\tData Overview: The dataset consists of reviews with key features such as reviewerID, asin (product code), overall (rating), and other text-based fields like reviewText and summary.\n",
    "\t•\tRating Distribution: The distribution shows that a rating of 5 is the most frequent rating, which could indicate that users are generally satisfied with products or that the dataset may be biased toward high ratings. This could impact the recommendation model as there may be fewer examples of lower ratings.\n",
    "\t•\tTop Reviewed Product: The product with the most reviews is identified by the ASIN code: B0012Y0ZG2. This insight is useful for understanding which products are most popular among users, which could be incorporated into recommendation systems as highly-rated or frequently-interacted products.\n",
    "\t•\tChallenges:\n",
    "\t•\tMissing values in text fields or sparsity in the rating matrix may require imputation or handling of missing data.\n",
    "\t•\tHandling large numbers of products (5,000+) and users (thousands) can lead to computational challenges, especially in memory-intensive tasks like matrix factorization or similarity calculations."
   ]
  },
  {
   "cell_type": "raw",
   "id": "4ba561ed-0029-446b-9d23-371e09c4133c",
   "metadata": {},
   "source": [
    "2. Collaborative Filtering and Content-Based Approaches\n",
    "\n",
    "Collaborative Filtering (CF)\n",
    "\t•\tApproach: CF predicts a user’s preferences based on the preferences of similar users. A common technique is Singular Value Decomposition (SVD), which reduces the dimensionality of the rating matrix.\n",
    "\t•\tStrengths:\n",
    "\t•\tCF works well when user-item interactions are dense and when there’s enough historical data for meaningful recommendations.\n",
    "\t•\tIt can uncover latent factors such as user and product relationships that aren’t obvious.\n",
    "\t•\tChallenges:\n",
    "\t•\tSparse data can affect the quality of recommendations. Users who have rated only a few items may not benefit as much from CF.\n",
    "\t•\tCold start problem: New users and items with little or no interaction data can’t be recommended well.\n",
    "\n",
    "Content-Based Filtering (CB)\n",
    "\t•\tApproach: CB recommends items based on their attributes and a user’s historical interactions. It computes similarity between items (e.g., using cosine similarity between product descriptions or categories).\n",
    "\t•\tStrengths:\n",
    "\t•\tIt works well when we have rich metadata (e.g., product description, category) and can personalize recommendations for each user based on their previous ratings.\n",
    "\t•\tLess affected by the cold start problem for new items, as long as metadata is available."
   ]
  },
  {
   "cell_type": "raw",
   "id": "9f3ef50c-57a1-4bae-b1f6-c86bb1d8487d",
   "metadata": {},
   "source": [
    "3. Hybrid System Design and Advantages\n",
    "\n",
    "Hybrid System\n",
    "\t•\tDesign: The hybrid system combines the outputs of both CF and CB approaches to create a more balanced and accurate recommendation model. It uses a weighted sum of CF and CB scores to generate a final recommendation, allowing the strengths of both methods to complement each other.\n",
    "\t•\tAdvantages:\n",
    "\t•\tBetter performance: By combining both approaches, the system can mitigate the weaknesses of each. For instance, CF can fill gaps when metadata is missing, and CB can provide recommendations for new users or items.\n",
    "\t•\tImproved diversity: The hybrid system can reduce the overfitting of recommendations to a user’s past behavior and provide more diverse suggestions by leveraging both similarity-based and user-driven data.\n",
    "\t•\tIncreased accuracy: The weighting of CF and CB outputs can be adjusted to balance between exploration (discovering new products) and exploitation (recommending popular or highly rated items)."
   ]
  },
  {
   "cell_type": "raw",
   "id": "88bd9f8c-8100-46bd-821b-a7b4ea65bd7e",
   "metadata": {},
   "source": [
    "4. Evaluation Metrics and Performance Comparison\n",
    "\t•\tMetrics Used:\n",
    "\t•\tMean Average Precision (MAP): Measures how well the top recommended items match with the user’s actual preferences. It considers the ranking of relevant items.\n",
    "\t•\tNormalized Discounted Cumulative Gain (NDCG): Evaluates the relevance of the items in the top recommendations, accounting for their position in the list (higher-ranked items are more important).\n",
    "\t•\tRoot Mean Squared Error (RMSE): Quantifies the error between predicted and actual ratings. It provides an understanding of how far off the system’s predictions are from real ratings.\n",
    "\t•\tComparison of Methods:\n",
    "\t•\tCollaborative Filtering (SVD): Shows good performance in capturing latent factors and tends to work well when user-item interaction data is abundant. The MAP and NDCG scores were relatively high (0.94 for SVD), indicating it provides accurate and relevant recommendations.\n",
    "\t•\tContent-Based Filtering: Since the dataset was more biased toward high ratings, this approach struggled with variety, leading to lower scores.\n",
    "\t•\tHybrid System: Combined the strengths of both methods, improving performance in terms of both precision and diversity. The hybrid system generally outperformed the individual CF and CB methods in terms of MAP and NDCG, providing more balanced and accurate recommendations."
   ]
  },
  {
   "cell_type": "raw",
   "id": "0a08582c-e3b0-4115-9682-493861d35c3f",
   "metadata": {},
   "source": [
    "Conclusion\n",
    "\n",
    "The hybrid recommendation system offers a more robust solution by combining the collaborative and content-based approaches. It outperforms the individual models in terms of precision, diversity, and the ability to handle both new and well-established items. This system can be further refined by fine-tuning the weights between CF and CB components, incorporating more advanced techniques like nearest neighbor search or using additional features such as product images or user demographics."
   ]
  },
  {
   "cell_type": "code",
   "execution_count": null,
   "id": "1746660c-8477-4e6a-af7c-9d1d82d0eb0a",
   "metadata": {},
   "outputs": [],
   "source": []
  }
 ],
 "metadata": {
  "kernelspec": {
   "display_name": "Python [conda env:base] *",
   "language": "python",
   "name": "conda-base-py"
  },
  "language_info": {
   "codemirror_mode": {
    "name": "ipython",
    "version": 3
   },
   "file_extension": ".py",
   "mimetype": "text/x-python",
   "name": "python",
   "nbconvert_exporter": "python",
   "pygments_lexer": "ipython3",
   "version": "3.12.7"
  }
 },
 "nbformat": 4,
 "nbformat_minor": 5
}
